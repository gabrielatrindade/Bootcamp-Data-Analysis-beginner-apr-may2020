{
 "cells": [
  {
   "cell_type": "markdown",
   "metadata": {},
   "source": [
    "# Exercise 1\n",
    "Welcome every name from `names`\n",
    "\n",
    "1. Create a list of 3 names\n",
    "\n",
    "2. Create a fruitless function that prints \"hello\" and the name from this name list\n",
    "\n",
    "3. The argument of your function is the name list"
   ]
  },
  {
   "cell_type": "code",
   "execution_count": 6,
   "metadata": {},
   "outputs": [
    {
     "name": "stdout",
     "output_type": "stream",
     "text": [
      "Hello, Gabriela\n",
      "Hello, Emmerson\n",
      "Hello, Pyladies\n"
     ]
    }
   ],
   "source": [
    "names = ['Gabriela', 'Emmerson', 'Pyladies']\n",
    "\n",
    "def print_names(names):\n",
    "    for name in names:\n",
    "        print ('Hello, ' + name)\n",
    "\n",
    "print_names(names)"
   ]
  },
  {
   "cell_type": "markdown",
   "metadata": {},
   "source": [
    "# Exercise 2\n",
    "- Write a Python program to calculate the sum of three given numbers\n",
    "- All the numbers should be the arguments of this function\n",
    "- If sum of the numbers is odd, then return a string saying that the numbers are odd\n",
    "- Your functions does not have to print because it is fruitful\n",
    "- Use a built-in function to calculate the sum, not an operator"
   ]
  },
  {
   "cell_type": "code",
   "execution_count": 80,
   "metadata": {},
   "outputs": [
    {
     "name": "stdout",
     "output_type": "stream",
     "text": [
      "First number: \n",
      "1\n",
      "Second number: \n",
      "2\n",
      "Third number: \n",
      "3\n"
     ]
    },
    {
     "data": {
      "text/plain": [
       "'The Result is even.'"
      ]
     },
     "execution_count": 80,
     "metadata": {},
     "output_type": "execute_result"
    }
   ],
   "source": [
    "print('First number: ')\n",
    "n1 = float(input())\n",
    "print('Second number: ')\n",
    "n2 = float(input())\n",
    "print('Third number: ')\n",
    "n3 = float(input())\n",
    "\n",
    "def sum_three_numbers (n1, n2, n3):\n",
    "    result = sum([n1, n2, n3])\n",
    "    if (result % 2 != 0):\n",
    "        return ('The Result is odd.' )\n",
    "    else:\n",
    "        return ('The Result is even.')\n",
    "\n",
    "sum_three_numbers(n1, n2, n3)"
   ]
  },
  {
   "cell_type": "markdown",
   "metadata": {},
   "source": [
    "## Exercise 3\n",
    "Write a Python program to concatenate all elements in a list to a string and return it"
   ]
  },
  {
   "cell_type": "code",
   "execution_count": 79,
   "metadata": {},
   "outputs": [
    {
     "data": {
      "text/plain": [
       "'s02345'"
      ]
     },
     "execution_count": 79,
     "metadata": {},
     "output_type": "execute_result"
    }
   ],
   "source": [
    "def concat_list_to_str(l):\n",
    "    l_str = (str(e) for e in l)\n",
    "    return ''.join(l_str)\n",
    "\n",
    "concat_list_to_str(['s0',2,3,4,5])"
   ]
  },
  {
   "cell_type": "markdown",
   "metadata": {},
   "source": [
    "# Exercise 4\n",
    "Write a Python program to sum three given integers. However, if two values are equal sum will be zero\n",
    "- use //\tfor floor division"
   ]
  },
  {
   "cell_type": "code",
   "execution_count": 82,
   "metadata": {},
   "outputs": [
    {
     "data": {
      "text/plain": [
       "0"
      ]
     },
     "execution_count": 82,
     "metadata": {},
     "output_type": "execute_result"
    }
   ],
   "source": [
    "def sum_three_diferent_numbers (n1, n2, n3):\n",
    "    result = 0\n",
    "    \n",
    "    if (n1 != n2) & (n2 != n3) & (n3 != n1):\n",
    "        result = n1+n2+n3\n",
    "        \n",
    "    return result\n",
    "\n",
    "sum_three_diferent_numbers(1,2,2)"
   ]
  }
 ],
 "metadata": {
  "kernelspec": {
   "display_name": "Python 3",
   "language": "python",
   "name": "python3"
  },
  "language_info": {
   "codemirror_mode": {
    "name": "ipython",
    "version": 3
   },
   "file_extension": ".py",
   "mimetype": "text/x-python",
   "name": "python",
   "nbconvert_exporter": "python",
   "pygments_lexer": "ipython3",
   "version": "3.6.9"
  }
 },
 "nbformat": 4,
 "nbformat_minor": 2
}
