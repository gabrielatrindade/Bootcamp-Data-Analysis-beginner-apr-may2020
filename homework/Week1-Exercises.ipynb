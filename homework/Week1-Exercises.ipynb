{
 "cells": [
  {
   "cell_type": "markdown",
   "metadata": {},
   "source": [
    "# Excercise 1\n",
    "Use markdown to sum up with bullut points what you like to learn"
   ]
  },
  {
   "cell_type": "markdown",
   "metadata": {},
   "source": [
    "I would like:\n",
    "* to revisit concepts that I already know;\n",
    "* to fill some gaps that I might have with Python. As for example, I learned about sets in the first session, some string concepts (immutable, indexing);\n",
    "* to learn more about txt file manipulations;\n",
    "* to work on real-life project;\n",
    "* to work in data analysis with a team."
   ]
  },
  {
   "cell_type": "markdown",
   "metadata": {},
   "source": [
    "# Excercise 2\n",
    "Whenever you are experimenting with a new feature, you should try to make mistakes. For example,\n",
    "in the “Hello, world!” program, what happens if you leave out one of the quotation marks? What if\n",
    "you leave out both? What if you spell print wrong?\n",
    "This kind of experiment helps you remember what you read; it also helps when you are programming,\n",
    "because you get to know what the error messages mean. It is better to make mistakes now and on\n",
    "purpose than later and accidentally. So go a head and try out:\n",
    "1. In a print statement, what happens if you leave out one of the parenthesis, or both?\n",
    "    * parenthesis are ( ) \n",
    "2. If you are trying to print a string, what happens if you leave out one of the quotation marks,\n",
    "or both?\n",
    "    * Quotation marks are ' \"\n",
    "3. You can use a minus sign to make a negative number like -2. What happens if you put a plus\n",
    "sign before a number? What about 2++2?\n",
    "8 Chapter 1. The way of the program\n",
    "4. What happens if you have two values with no operator between them\n",
    "    * operators are + - / *"
   ]
  },
  {
   "cell_type": "code",
   "execution_count": 2,
   "metadata": {},
   "outputs": [
    {
     "name": "stdout",
     "output_type": "stream",
     "text": [
      "Hello world\n"
     ]
    }
   ],
   "source": [
    "print(\"Hello world\")"
   ]
  },
  {
   "cell_type": "code",
   "execution_count": 5,
   "metadata": {},
   "outputs": [
    {
     "ename": "SyntaxError",
     "evalue": "Missing parentheses in call to 'print'. Did you mean print(\"Hello world\")? (<ipython-input-5-9fb80848b1b7>, line 1)",
     "output_type": "error",
     "traceback": [
      "\u001b[0;36m  File \u001b[0;32m\"<ipython-input-5-9fb80848b1b7>\"\u001b[0;36m, line \u001b[0;32m1\u001b[0m\n\u001b[0;31m    print \"Hello world\"\u001b[0m\n\u001b[0m                      ^\u001b[0m\n\u001b[0;31mSyntaxError\u001b[0m\u001b[0;31m:\u001b[0m Missing parentheses in call to 'print'. Did you mean print(\"Hello world\")?\n"
     ]
    }
   ],
   "source": [
    "print \"Hello world\""
   ]
  },
  {
   "cell_type": "code",
   "execution_count": 8,
   "metadata": {},
   "outputs": [
    {
     "ename": "SyntaxError",
     "evalue": "EOL while scanning string literal (<ipython-input-8-6d22d03c5544>, line 1)",
     "output_type": "error",
     "traceback": [
      "\u001b[0;36m  File \u001b[0;32m\"<ipython-input-8-6d22d03c5544>\"\u001b[0;36m, line \u001b[0;32m1\u001b[0m\n\u001b[0;31m    print('Hello world)\u001b[0m\n\u001b[0m                       ^\u001b[0m\n\u001b[0;31mSyntaxError\u001b[0m\u001b[0;31m:\u001b[0m EOL while scanning string literal\n"
     ]
    }
   ],
   "source": [
    "print('Hello world)"
   ]
  },
  {
   "cell_type": "code",
   "execution_count": 9,
   "metadata": {},
   "outputs": [
    {
     "name": "stdout",
     "output_type": "stream",
     "text": [
      "-2\n"
     ]
    }
   ],
   "source": [
    "print(-2)"
   ]
  },
  {
   "cell_type": "code",
   "execution_count": 10,
   "metadata": {},
   "outputs": [
    {
     "name": "stdout",
     "output_type": "stream",
     "text": [
      "2\n"
     ]
    }
   ],
   "source": [
    "print(+2)"
   ]
  },
  {
   "cell_type": "code",
   "execution_count": 11,
   "metadata": {},
   "outputs": [
    {
     "name": "stdout",
     "output_type": "stream",
     "text": [
      "4\n"
     ]
    }
   ],
   "source": [
    "print(2++2)"
   ]
  },
  {
   "cell_type": "code",
   "execution_count": 12,
   "metadata": {},
   "outputs": [
    {
     "ename": "SyntaxError",
     "evalue": "invalid syntax (<ipython-input-12-8966f55411a6>, line 1)",
     "output_type": "error",
     "traceback": [
      "\u001b[0;36m  File \u001b[0;32m\"<ipython-input-12-8966f55411a6>\"\u001b[0;36m, line \u001b[0;32m1\u001b[0m\n\u001b[0;31m    print(2 3)\u001b[0m\n\u001b[0m            ^\u001b[0m\n\u001b[0;31mSyntaxError\u001b[0m\u001b[0;31m:\u001b[0m invalid syntax\n"
     ]
    }
   ],
   "source": [
    "print(2 3)"
   ]
  },
  {
   "cell_type": "markdown",
   "metadata": {},
   "source": [
    "# Excercise 3\n",
    "Use python as it as a calculator. Don't forget print statements\n",
    "1. Assign 60 to minutes and calculate, with making use of the variable how many seconds are there in 42 minutes 42 seconds?\n",
    "2. How many miles are there in 10 kilometers? Hint: there are 1.61 kilometers in a mile, use a comment to explain what your calculating"
   ]
  },
  {
   "cell_type": "code",
   "execution_count": 16,
   "metadata": {},
   "outputs": [
    {
     "data": {
      "text/plain": [
       "2562"
      ]
     },
     "execution_count": 16,
     "metadata": {},
     "output_type": "execute_result"
    }
   ],
   "source": [
    "# calculating how many seconds there are in 42 minutes 42 seconds\n",
    "minute = 60\n",
    "\n",
    "42 * minute + 42"
   ]
  },
  {
   "cell_type": "code",
   "execution_count": 17,
   "metadata": {},
   "outputs": [
    {
     "data": {
      "text/plain": [
       "6.211180124223602"
      ]
     },
     "execution_count": 17,
     "metadata": {},
     "output_type": "execute_result"
    }
   ],
   "source": [
    "# calculating how many miles there are in 10 km\n",
    "mile = 1.61\n",
    "\n",
    "10 / mile"
   ]
  },
  {
   "cell_type": "markdown",
   "metadata": {},
   "source": [
    "# Excercise 4\n",
    "1. Create a list of 5 colours, the data type of every element in list is a string\n",
    "2. Add a colour to your list, use the + operator\n",
    "3. Change the second colour to \"white with a purple round\"\n",
    "4. Display the third item of the list, remember, python starts at 0\n",
    "5. Display the first and last colours from the list\n",
    "6. Add an exclamation mark to every colour in the list, print all the colours on a new line and make use of a loop\n"
   ]
  },
  {
   "cell_type": "code",
   "execution_count": 1,
   "metadata": {},
   "outputs": [
    {
     "name": "stdout",
     "output_type": "stream",
     "text": [
      "<class 'list'> <class 'str'>\n"
     ]
    }
   ],
   "source": [
    "colors = ['red', 'pink', 'blue', 'yellow', 'green']\n",
    "\n",
    "print(type(colors), type(colors[0]))"
   ]
  },
  {
   "cell_type": "code",
   "execution_count": 2,
   "metadata": {},
   "outputs": [
    {
     "data": {
      "text/plain": [
       "['red', 'pink', 'blue', 'yellow', 'green', 'grey', 'white']"
      ]
     },
     "execution_count": 2,
     "metadata": {},
     "output_type": "execute_result"
    }
   ],
   "source": [
    "colors += [\"grey\"]\n",
    "colors = colors + ['white']\n",
    "\n",
    "colors"
   ]
  },
  {
   "cell_type": "code",
   "execution_count": 55,
   "metadata": {},
   "outputs": [
    {
     "data": {
      "text/plain": [
       "['red', 'pink', 'blue', 'yellow', 'green', 'white with a purple round']"
      ]
     },
     "execution_count": 55,
     "metadata": {},
     "output_type": "execute_result"
    }
   ],
   "source": [
    "# I changed the last element, not the second one [1].\n",
    "colors[-1] = \"white with a purple round\"\n",
    "\n",
    "colors"
   ]
  },
  {
   "cell_type": "code",
   "execution_count": 56,
   "metadata": {},
   "outputs": [
    {
     "data": {
      "text/plain": [
       "'blue'"
      ]
     },
     "execution_count": 56,
     "metadata": {},
     "output_type": "execute_result"
    }
   ],
   "source": [
    "colors[2]"
   ]
  },
  {
   "cell_type": "code",
   "execution_count": 5,
   "metadata": {},
   "outputs": [
    {
     "data": {
      "text/plain": [
       "('red', 'white')"
      ]
     },
     "execution_count": 5,
     "metadata": {},
     "output_type": "execute_result"
    }
   ],
   "source": [
    "colors[0], colors[-1]"
   ]
  },
  {
   "cell_type": "code",
   "execution_count": 6,
   "metadata": {},
   "outputs": [
    {
     "name": "stdout",
     "output_type": "stream",
     "text": [
      "the first item is red the last items is white\n",
      "red white\n"
     ]
    }
   ],
   "source": [
    "print(f\"the first item is {colors[0]} the last items is {colors[-1]}\")\n",
    "print(colors[0], colors[-1])"
   ]
  },
  {
   "cell_type": "code",
   "execution_count": 8,
   "metadata": {},
   "outputs": [
    {
     "name": "stdout",
     "output_type": "stream",
     "text": [
      "red!\n",
      "pink!\n",
      "blue!\n",
      "yellow!\n",
      "green!\n",
      "grey!\n",
      "white!\n"
     ]
    }
   ],
   "source": [
    "for color in colors:\n",
    "    print(color + '!')"
   ]
  },
  {
   "cell_type": "markdown",
   "metadata": {},
   "source": [
    "# Excercise 5\n",
    "- Ask the user for his or her name\n",
    "- Assign the name to an variable\n",
    "- Greet the user with: Hello {username} !\n",
    "- Hint: do not forget to use print \n",
    "- Hint: use the The input() function"
   ]
  },
  {
   "cell_type": "code",
   "execution_count": 60,
   "metadata": {},
   "outputs": [
    {
     "name": "stdout",
     "output_type": "stream",
     "text": [
      "What's your name?\n",
      "Gabriela\n",
      "Hello Gabriela !\n"
     ]
    }
   ],
   "source": [
    "print(\"What's your name?\")\n",
    "name = input()\n",
    "print('Hello '+name+' !')"
   ]
  },
  {
   "cell_type": "markdown",
   "metadata": {},
   "source": [
    "# Bonus\n",
    "Write a Python program to calculate number of days between two dates\n",
    "- Sample dates : (2020, 7, 2), (2020, 7, 11)\n",
    "- Expected output : 9 days\n",
    "- Hint: `from datetime import date`"
   ]
  },
  {
   "cell_type": "code",
   "execution_count": 10,
   "metadata": {},
   "outputs": [],
   "source": [
    "from datetime import date, datetime"
   ]
  },
  {
   "cell_type": "code",
   "execution_count": 83,
   "metadata": {},
   "outputs": [
    {
     "name": "stdout",
     "output_type": "stream",
     "text": [
      "Start date (format: yyyy, m, d): \n",
      "2020, 7, 2\n",
      "End date (format: yyyy, m, d): \n",
      "2020, 7, 11\n",
      "9 days\n"
     ]
    }
   ],
   "source": [
    "# in my first solution I used datetime\n",
    "\n",
    "print('Start date (format: yyyy, m, d): ')\n",
    "start_day = input()\n",
    "print('End date (format: yyyy, m, d): ')\n",
    "end_day = input()\n",
    "\n",
    "start_day = datetime.strptime(start_day, '%Y, %m, %d').date()\n",
    "end_day = datetime.strptime(end_day, '%Y, %m, %d').date()\n",
    "\n",
    "days = (end_day - start_day).days\n",
    "\n",
    "print(str(days) + ' days')"
   ]
  },
  {
   "cell_type": "code",
   "execution_count": 122,
   "metadata": {},
   "outputs": [
    {
     "name": "stdout",
     "output_type": "stream",
     "text": [
      "Start date (format: yyyy, m, d): \n",
      "2020, 7, 2\n",
      "End date (format: yyyy, m, d): \n",
      "2020, 7, 11\n",
      "9 days\n"
     ]
    }
   ],
   "source": [
    "# In this solution I used date\n",
    "\n",
    "print('Start date (format: yyyy, m, d): ')\n",
    "start_day = input()\n",
    "print('End date (format: yyyy, m, d): ')\n",
    "end_day = input()\n",
    "\n",
    "start_day = start_day.split(',')\n",
    "start_day = date(int(start_day[0]), int(start_day[1]), int(start_day[2]))\n",
    "\n",
    "end_day = end_day.split(',')\n",
    "end_day = date(int(end_day[0]), int(end_day[1]), int(end_day[2]))\n",
    "\n",
    "days = (end_day - start_day).days\n",
    "\n",
    "print(str(days) + ' days')"
   ]
  },
  {
   "cell_type": "code",
   "execution_count": 11,
   "metadata": {},
   "outputs": [
    {
     "name": "stdout",
     "output_type": "stream",
     "text": [
      "9\n"
     ]
    }
   ],
   "source": [
    "date1 = date(2020, 7, 2)\n",
    "date2 = date(2020, 7, 11)\n",
    "\n",
    "difference = date2 - date1\n",
    "print(difference.days)"
   ]
  },
  {
   "cell_type": "markdown",
   "metadata": {},
   "source": [
    "# Draft"
   ]
  },
  {
   "cell_type": "code",
   "execution_count": 62,
   "metadata": {},
   "outputs": [
    {
     "ename": "TypeError",
     "evalue": "unsupported operand type(s) for +: 'int' and 'str'",
     "output_type": "error",
     "traceback": [
      "\u001b[0;31m---------------------------------------------------------------------------\u001b[0m",
      "\u001b[0;31mTypeError\u001b[0m                                 Traceback (most recent call last)",
      "\u001b[0;32m<ipython-input-62-5ab61b9c3ff7>\u001b[0m in \u001b[0;36m<module>\u001b[0;34m\u001b[0m\n\u001b[0;32m----> 1\u001b[0;31m \u001b[0;36m9\u001b[0m\u001b[0;34m+\u001b[0m\u001b[0;34m'days'\u001b[0m\u001b[0;34m\u001b[0m\u001b[0;34m\u001b[0m\u001b[0m\n\u001b[0m",
      "\u001b[0;31mTypeError\u001b[0m: unsupported operand type(s) for +: 'int' and 'str'"
     ]
    }
   ],
   "source": [
    "9+'days'"
   ]
  },
  {
   "cell_type": "code",
   "execution_count": 131,
   "metadata": {},
   "outputs": [
    {
     "data": {
      "text/plain": [
       "datetime.date(2020, 7, 1)"
      ]
     },
     "execution_count": 131,
     "metadata": {},
     "output_type": "execute_result"
    }
   ],
   "source": [
    "date(2020, 7, 1)"
   ]
  },
  {
   "cell_type": "code",
   "execution_count": 92,
   "metadata": {},
   "outputs": [
    {
     "data": {
      "text/plain": [
       "('2', '0', '2', '0', ',', ' ', '7', ',', ' ', '1')"
      ]
     },
     "execution_count": 92,
     "metadata": {},
     "output_type": "execute_result"
    }
   ],
   "source": [
    "tuple('2020, 7, 1')"
   ]
  },
  {
   "cell_type": "code",
   "execution_count": 115,
   "metadata": {},
   "outputs": [
    {
     "data": {
      "text/plain": [
       "<generator object <genexpr> at 0x7ff20ce80830>"
      ]
     },
     "execution_count": 115,
     "metadata": {},
     "output_type": "execute_result"
    }
   ],
   "source": [
    "tuple(int(x) for x in '2020, 7, 1'.split(\",\"))"
   ]
  }
 ],
 "metadata": {
  "kernelspec": {
   "display_name": "Python 3",
   "language": "python",
   "name": "python3"
  },
  "language_info": {
   "codemirror_mode": {
    "name": "ipython",
    "version": 3
   },
   "file_extension": ".py",
   "mimetype": "text/x-python",
   "name": "python",
   "nbconvert_exporter": "python",
   "pygments_lexer": "ipython3",
   "version": "3.6.9"
  }
 },
 "nbformat": 4,
 "nbformat_minor": 2
}
