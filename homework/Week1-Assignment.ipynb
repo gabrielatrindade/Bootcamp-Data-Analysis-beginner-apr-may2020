{
 "cells": [
  {
   "cell_type": "markdown",
   "metadata": {},
   "source": [
    "# Collect data\n",
    "1. Find yourself an data set that you want to analyse, this dataset has to be an csv file (excel), we are going to use this dataset in the coming weeks to give you real working experience.\n",
    "\n",
    "    - The dataset can be from your own work of you can explore https://www.kaggle.com/datasets\n",
    "    - Look for dataset with not to much columns\n",
    "    \n",
    "    \n",
    "2. Write at least 3 questions down, you want to know from the data set\n",
    "    - Do not go to hard on yourself\n",
    "\n",
    "# Explain concepts\n",
    "\n",
    "Because we all know how hard it is to explain concepts, that's why we need to practise. You do not have to type things done, just try to explain the concept to someone you know. Of course you can google first\n",
    "1. Explain why we use the print statement\n",
    "2. Explain why for loops are handy\n",
    "3. What is the difference between a set, a tuple and a list\n",
    "4. Why do we need to use comments and how do you use them best\n"
   ]
  },
  {
   "cell_type": "code",
   "execution_count": null,
   "metadata": {},
   "outputs": [],
   "source": []
  }
 ],
 "metadata": {
  "kernelspec": {
   "display_name": "Python 3",
   "language": "python",
   "name": "python3"
  },
  "language_info": {
   "codemirror_mode": {
    "name": "ipython",
    "version": 3
   },
   "file_extension": ".py",
   "mimetype": "text/x-python",
   "name": "python",
   "nbconvert_exporter": "python",
   "pygments_lexer": "ipython3",
   "version": "3.6.9"
  }
 },
 "nbformat": 4,
 "nbformat_minor": 4
}
