{
 "cells": [
  {
   "cell_type": "markdown",
   "metadata": {},
   "source": [
    "# Manipulate .txt files\n",
    "### Preps:\n",
    "1. Create a data folder in the assignments (homework) folder\n",
    "2. Copy the birth_life_2010.txt to the data folder\n",
    "3. What is the absolute path of your birth_life_2010.txt file? \n",
    "    - Hint: `import os`\n",
    "4. Look up what the os library can do for you\n",
    "\n",
    "\n",
    "### Questions\n",
    "1. Read the birth_life_2010.txt file line by line\n",
    "2. Make sure that every country name is in the same list as the Birth rate and the Life expectancy belonging to that country\n",
    "    - example: [Vietnam, 1.822, 74.828243902']\n",
    "    - result: [[Vietnam, 1.822, 74.828243902'], ..., ['Vanuatu, 3.869, 70.819487805]]\n",
    "3. Make sure all the countries names are in capital letters\n",
    "4. Round all the numbers to 2 decimals\n",
    "5. Sort the list based on the country names from A -> Z\n",
    "6. Remove now the last letter of every country\n"
   ]
  },
  {
   "cell_type": "code",
   "execution_count": 1,
   "metadata": {},
   "outputs": [
    {
     "output_type": "execute_result",
     "data": {
      "text/plain": "'/Users/alyonagalyeva/test/Bootcamp_preps/solutions/Week2'"
     },
     "metadata": {},
     "execution_count": 1
    }
   ],
   "source": [
    "import os\n",
    "os.getcwd()"
   ]
  },
  {
   "cell_type": "code",
   "execution_count": 2,
   "metadata": {},
   "outputs": [],
   "source": [
    "file = \"data/birth_life_2010.txt\""
   ]
  },
  {
   "cell_type": "code",
   "execution_count": 3,
   "metadata": {},
   "outputs": [],
   "source": [
    "with open (file, \"r\") as f:\n",
    "    text = f.read().split('\\n')\n",
    "    countries = []\n",
    "    for item in text:\n",
    "        countries.append(item.split('\\t'))\n",
    "        \n",
    "#Or\n",
    "with open (file, \"r\") as f:\n",
    "    text = f.read().split('\\n')\n",
    "    countries2 = [item.split('\\t') for item in text]"
   ]
  },
  {
   "cell_type": "code",
   "execution_count": 4,
   "metadata": {},
   "outputs": [
    {
     "output_type": "execute_result",
     "data": {
      "text/plain": "[['Country', 'Birth rate', 'Life expectancy'],\n ['Vietnam', '1.822', '74.828243902'],\n ['Vanuatu', '3.869', '70.819487805']]"
     },
     "metadata": {},
     "execution_count": 4
    }
   ],
   "source": [
    "countries[:3]"
   ]
  },
  {
   "cell_type": "code",
   "execution_count": 5,
   "metadata": {},
   "outputs": [
    {
     "output_type": "execute_result",
     "data": {
      "text/plain": "[['Country', 'Birth rate', 'Life expectancy'],\n ['Vietnam', '1.822', '74.828243902'],\n ['Vanuatu', '3.869', '70.819487805']]"
     },
     "metadata": {},
     "execution_count": 5
    }
   ],
   "source": [
    "countries2[:3]"
   ]
  },
  {
   "cell_type": "code",
   "execution_count": 10,
   "metadata": {},
   "outputs": [
    {
     "data": {
      "text/plain": [
       "[['AFGHANISTAN', 6.29, 48.28],\n",
       " ['ALBANIA', 1.54, 76.9],\n",
       " ['ALGERIA', 2.26, 72.85],\n",
       " ['ANGOLA', 5.44, 50.65],\n",
       " ['ARGENTINA', 2.21, 75.63],\n",
       " ['ARMENIA', 1.74, 73.78],\n",
       " ['ARUBA', 1.7, 74.98],\n",
       " ['AUSTRALIA', 1.92, 81.7],\n",
       " ['AUSTRIA', 1.44, 80.38],\n",
       " ['AZERBAIJAN', 2.3, 70.51],\n",
       " ['BAHRAIN', 2.54, 75.02],\n",
       " ['BANGLADESH', 2.25, 68.63],\n",
       " ['BARBADOS', 1.55, 76.57],\n",
       " ['BELARUS', 1.44, 70.4],\n",
       " ['BELGIUM', 1.84, 79.94],\n",
       " ['BELIZE', 2.79, 75.84],\n",
       " ['BENIN', 5.29, 55.59],\n",
       " ['BERMUDA', 1.76, 79.29],\n",
       " ['BHUTAN', 2.4, 66.91],\n",
       " ['BOLIVIA', 3.35, 66.27],\n",
       " ['BOSNIA AND HERZEGOVINA', 1.15, 75.4],\n",
       " ['BOTSWANA', 2.75, 53.11],\n",
       " ['BRAZIL', 1.83, 73.1],\n",
       " ['BRUNEI', 2.04, 77.93],\n",
       " ['BULGARIA', 1.49, 73.51],\n",
       " ['BURKINA FASO', 5.85, 54.92],\n",
       " ['BURUNDI', 4.34, 49.88],\n",
       " ['CAMBODIA', 2.58, 62.54],\n",
       " ['CAMEROON', 4.49, 51.06],\n",
       " ['CANADA', 1.68, 80.8],\n",
       " ['CAPE VERDE', 2.4, 73.77],\n",
       " ['CENTRAL AFRICAN REPUBLIC', 4.63, 47.62],\n",
       " ['CHAD', 5.98, 49.19],\n",
       " ['CHANNEL ISLANDS', 1.46, 79.83],\n",
       " ['CHILE', 1.86, 78.89],\n",
       " ['CHINA', 1.6, 73.27],\n",
       " ['COLOMBIA', 2.1, 73.43],\n",
       " ['COMOROS', 4.92, 60.63],\n",
       " ['CONGO', 4.54, 56.96],\n",
       " ['COSTA RICA', 1.85, 79.19],\n",
       " ['CROATIA', 1.46, 76.48],\n",
       " ['CUBA', 1.47, 78.96],\n",
       " ['CYPRUS', 1.48, 79.38],\n",
       " ['CZECH REPUBLIC', 1.49, 77.42],\n",
       " ['DEM. REP. CONGO', 5.78, 48.07],\n",
       " ['DEM. REP. KOREA', 2.02, 68.53],\n",
       " ['DENMARK', 1.87, 79.1],\n",
       " ['DJIBOUTI', 3.75, 57.53],\n",
       " ['DOMINICAN REPUBLIC', 2.58, 73.2],\n",
       " ['ECUADOR', 2.48, 75.46],\n",
       " ['EGYPT', 2.73, 72.98],\n",
       " ['EL SALVADOR', 2.25, 71.73],\n",
       " ['EQUATORIAL GUINEA', 5.18, 50.84],\n",
       " ['ERITREA', 4.45, 60.99],\n",
       " ['ESTONIA', 1.63, 75.43],\n",
       " ['ETHIOPIA', 4.19, 58.72],\n",
       " ['FIJI', 2.67, 69.23],\n",
       " ['FINLAND', 1.87, 79.87],\n",
       " ['FRANCE', 2.0, 81.37],\n",
       " ['FRENCH POLYNESIA', 2.09, 75.08],\n",
       " ['GABON', 3.25, 62.29],\n",
       " ['GEORGIA', 1.55, 73.33],\n",
       " ['GERMANY', 1.39, 79.99],\n",
       " ['GHANA', 4.17, 63.84],\n",
       " ['GREECE', 1.44, 80.39],\n",
       " ['GRENADA', 2.23, 75.66],\n",
       " ['GUAM', 2.47, 75.99],\n",
       " ['GUATEMALA', 3.98, 70.83],\n",
       " ['GUINEA', 5.25, 53.64],\n",
       " ['GUINEA-BISSAU', 5.06, 47.7],\n",
       " ['GUYANA', 2.26, 69.55],\n",
       " ['HAITI', 3.34, 61.76],\n",
       " ['HONDURAS', 3.14, 72.83],\n",
       " ['HONG KONG SAR, CHINA', 1.11, 82.88],\n",
       " ['HUNGARY', 1.25, 74.21],\n",
       " ['ICELAND', 2.2, 81.45],\n",
       " ['INDIA', 2.62, 65.13],\n",
       " ['INDONESIA', 2.12, 68.89],\n",
       " ['IRAN', 1.67, 72.75],\n",
       " ['IRAQ', 4.7, 68.49],\n",
       " ['IRELAND', 2.07, 80.29],\n",
       " ['ISRAEL', 3.03, 81.5],\n",
       " ['ITALY', 1.4, 81.74],\n",
       " ['JAMAICA', 2.33, 72.85],\n",
       " ['JAPAN', 1.39, 82.93],\n",
       " ['JORDAN', 3.8, 73.29],\n",
       " ['KAZAKHSTAN', 2.59, 68.3],\n",
       " ['KENYA', 4.72, 56.5],\n",
       " ['KOREA', 1.22, 80.76],\n",
       " ['KOSOVO', 2.29, 69.88],\n",
       " ['KUWAIT', 2.29, 74.6],\n",
       " ['KYRGYZ REPUBLIC', 2.9, 69.37],\n",
       " ['LAO PDR', 2.75, 67.06],\n",
       " ['LATVIA', 1.17, 73.48],\n",
       " ['LEBANON', 1.8, 72.41],\n",
       " ['LESOTHO', 3.2, 47.37],\n",
       " ['LIBERIA', 5.24, 56.15],\n",
       " ['LIBYA', 2.56, 74.75],\n",
       " ['LITHUANIA', 1.55, 73.27],\n",
       " ['LUXEMBOURG', 1.63, 80.09],\n",
       " ['MACAO SAR, CHINA', 1.09, 80.78],\n",
       " ['MACEDONIA', 1.42, 74.62],\n",
       " ['MADAGASCAR', 4.65, 66.47],\n",
       " ['MALAWI', 5.99, 53.46],\n",
       " ['MALAYSIA', 2.63, 74.02],\n",
       " ['MALDIVES', 1.75, 76.55],\n",
       " ['MALI', 6.29, 50.95],\n",
       " ['MALTA', 1.38, 80.95],\n",
       " ['MAURITANIA', 4.53, 58.22],\n",
       " ['MAURITIUS', 1.47, 72.97],\n",
       " ['MEXICO', 2.32, 76.68],\n",
       " ['MICRONESIA', 3.45, 68.76],\n",
       " ['MOLDOVA', 1.48, 68.9],\n",
       " ['MONGOLIA', 2.5, 68.19],\n",
       " ['MONTENEGRO', 1.66, 74.31],\n",
       " ['MOROCCO', 2.28, 71.86],\n",
       " ['MOZAMBIQUE', 4.91, 49.7],\n",
       " ['MYANMAR', 2.0, 64.66],\n",
       " ['NAMIBIA', 3.22, 62.07],\n",
       " ['NEPAL', 2.73, 68.39],\n",
       " ['NETHERLANDS', 1.79, 80.7],\n",
       " ['NEW CALEDONIA', 2.14, 76.3],\n",
       " ['NEW ZEALAND', 2.16, 80.7],\n",
       " ['NICARAGUA', 2.62, 73.73],\n",
       " ['NIGER', 7.06, 54.27],\n",
       " ['NIGERIA', 5.53, 51.41],\n",
       " ['NORWAY', 1.95, 81.0],\n",
       " ['OMAN', 2.31, 73.12],\n",
       " ['PAKISTAN', 3.42, 65.2],\n",
       " ['PANAMA', 2.48, 75.97],\n",
       " ['PAPUA NEW GUINEA', 3.95, 62.44],\n",
       " ['PARAGUAY', 2.95, 72.28],\n",
       " ['PERU', 2.5, 73.76],\n",
       " ['PHILIPPINES', 3.14, 68.48],\n",
       " ['POLAND', 1.38, 76.25],\n",
       " ['PORTUGAL', 1.32, 79.03],\n",
       " ['PUERTO RICO', 1.8, 78.91],\n",
       " ['QATAR', 2.27, 78.1],\n",
       " ['ROMANIA', 1.38, 73.46],\n",
       " ['RUSSIA', 1.54, 68.8],\n",
       " ['RWANDA', 5.37, 55.06],\n",
       " ['SAMOA', 3.86, 72.31],\n",
       " ['SAUDI ARABIA', 2.81, 73.85],\n",
       " ['SENEGAL', 4.82, 58.95],\n",
       " ['SERBIA', 1.4, 73.94],\n",
       " ['SEYCHELLES', 2.5, 73.03],\n",
       " ['SIERRA LEONE', 4.98, 47.4],\n",
       " ['SINGAPORE', 1.15, 81.64],\n",
       " ['SLOVAK REPUBLIC', 1.4, 75.11],\n",
       " ['SLOVENIA', 1.57, 79.42],\n",
       " ['SOLOMON ISLANDS', 4.23, 67.47],\n",
       " ['SOMALIA', 6.34, 50.9],\n",
       " ['SOUTH AFRICA', 2.46, 52.08],\n",
       " ['SPAIN', 1.39, 81.63],\n",
       " ['SRI LANKA', 2.31, 74.72],\n",
       " ['ST. LUCIA', 1.98, 74.44],\n",
       " ['ST. VINCENT AND THE GRENADINES', 2.06, 72.11],\n",
       " ['SUDAN', 4.4, 61.11],\n",
       " ['SURINAME', 2.34, 70.34],\n",
       " ['SWAZILAND', 3.36, 48.34],\n",
       " ['SWEDEN', 1.98, 81.45],\n",
       " ['SWITZERLAND', 1.5, 82.25],\n",
       " ['SYRIAN ARAB REPUBLIC', 2.93, 75.7],\n",
       " ['TAJIKISTAN', 3.3, 67.26],\n",
       " ['TANZANIA', 5.54, 57.39],\n",
       " ['THAILAND', 1.58, 73.93],\n",
       " ['THE BAHAMAS', 1.9, 75.22],\n",
       " ['THE GAMBIA', 4.9, 58.16],\n",
       " ['TIMOR-LESTE', 5.58, 62.0],\n",
       " ['TOGO', 4.07, 56.59],\n",
       " ['TONGA', 3.91, 72.15],\n",
       " ['TRINIDAD AND TOBAGO', 1.64, 69.75],\n",
       " ['TUNISIA', 2.04, 74.6],\n",
       " ['TURKEY', 2.09, 73.7],\n",
       " ['TURKMENISTAN', 2.4, 64.86],\n",
       " ['UGANDA', 6.15, 53.61],\n",
       " ['UKRAINE', 1.45, 70.28],\n",
       " ['UNITED ARAB EMIRATES', 1.75, 76.57],\n",
       " ['UNITED KINGDOM', 1.94, 80.4],\n",
       " ['UNITED STATES', 2.1, 78.24],\n",
       " ['URUGUAY', 1.99, 76.24],\n",
       " ['UZBEKISTAN', 2.5, 68.0],\n",
       " ['VANUATU', 3.87, 70.82],\n",
       " ['VENEZUELA', 2.49, 74.13],\n",
       " ['VIRGIN ISLANDS', 1.8, 79.19],\n",
       " ['WEST BANK AND GAZA', 4.45, 72.64],\n",
       " ['YEMEN', 5.2, 65.03],\n",
       " ['ZAMBIA', 6.26, 48.46],\n",
       " ['ZIMBABWE', 3.29, 49.86]]"
      ]
     },
     "execution_count": 10,
     "metadata": {},
     "output_type": "execute_result"
    }
   ],
   "source": [
    "#Make sure all the countries are in capital letters\n",
    "all_upper = []\n",
    "for item in countries[1:]:\n",
    "    all_upper.append([item[0].upper(), round(float(item[1]), 2), round(float(item[2]), 2)])\n",
    "    \n",
    "sorted(all_upper[1:])"
   ]
  },
  {
   "cell_type": "code",
   "execution_count": 6,
   "metadata": {},
   "outputs": [
    {
     "output_type": "execute_result",
     "data": {
      "text/plain": "[['AFGHANISTA', 6.29, 48.28],\n ['ALBANI', 1.54, 76.9],\n ['ALGERI', 2.26, 72.85],\n ['ANGOL', 5.44, 50.65],\n ['ARGENTIN', 2.21, 75.63],\n ['ARMENI', 1.74, 73.78],\n ['ARUB', 1.7, 74.98],\n ['AUSTRALI', 1.92, 81.7],\n ['AUSTRI', 1.44, 80.38],\n ['AZERBAIJA', 2.3, 70.51],\n ['BAHRAI', 2.54, 75.02],\n ['BANGLADES', 2.25, 68.63],\n ['BARBADO', 1.55, 76.57],\n ['BELARU', 1.44, 70.4],\n ['BELGIU', 1.84, 79.94],\n ['BELIZ', 2.79, 75.84],\n ['BENI', 5.29, 55.59],\n ['BERMUD', 1.76, 79.29],\n ['BHUTA', 2.4, 66.91],\n ['BOLIVI', 3.35, 66.27],\n ['BOSNIA AND HERZEGOVIN', 1.15, 75.4],\n ['BOTSWAN', 2.75, 53.11],\n ['BRAZI', 1.83, 73.1],\n ['BRUNE', 2.04, 77.93],\n ['BULGARI', 1.49, 73.51],\n ['BURKINA FAS', 5.85, 54.92],\n ['BURUND', 4.34, 49.88],\n ['CAMBODI', 2.58, 62.54],\n ['CAMEROO', 4.49, 51.06],\n ['CANAD', 1.68, 80.8],\n ['CAPE VERD', 2.4, 73.77],\n ['CENTRAL AFRICAN REPUBLI', 4.63, 47.62],\n ['CHA', 5.98, 49.19],\n ['CHANNEL ISLAND', 1.46, 79.83],\n ['CHIL', 1.86, 78.89],\n ['CHIN', 1.6, 73.27],\n ['COLOMBI', 2.1, 73.43],\n ['COMORO', 4.92, 60.63],\n ['CONG', 4.54, 56.96],\n ['COSTA RIC', 1.85, 79.19],\n ['CROATI', 1.46, 76.48],\n ['CUB', 1.47, 78.96],\n ['CYPRU', 1.48, 79.38],\n ['CZECH REPUBLI', 1.49, 77.42],\n ['DEM. REP. CONG', 5.78, 48.07],\n ['DEM. REP. KORE', 2.02, 68.53],\n ['DENMAR', 1.87, 79.1],\n ['DJIBOUT', 3.75, 57.53],\n ['DOMINICAN REPUBLI', 2.58, 73.2],\n ['ECUADO', 2.48, 75.46],\n ['EGYP', 2.73, 72.98],\n ['EL SALVADO', 2.25, 71.73],\n ['EQUATORIAL GUINE', 5.18, 50.84],\n ['ERITRE', 4.45, 60.99],\n ['ESTONI', 1.63, 75.43],\n ['ETHIOPI', 4.19, 58.72],\n ['FIJ', 2.67, 69.23],\n ['FINLAN', 1.87, 79.87],\n ['FRANC', 2.0, 81.37],\n ['FRENCH POLYNESI', 2.09, 75.08],\n ['GABO', 3.25, 62.29],\n ['GEORGI', 1.55, 73.33],\n ['GERMAN', 1.39, 79.99],\n ['GHAN', 4.17, 63.84],\n ['GREEC', 1.44, 80.39],\n ['GRENAD', 2.23, 75.66],\n ['GUA', 2.47, 75.99],\n ['GUATEMAL', 3.98, 70.83],\n ['GUINE', 5.25, 53.64],\n ['GUINEA-BISSA', 5.06, 47.7],\n ['GUYAN', 2.26, 69.55],\n ['HAIT', 3.34, 61.76],\n ['HONDURA', 3.14, 72.83],\n ['HONG KONG SAR, CHIN', 1.11, 82.88],\n ['HUNGAR', 1.25, 74.21],\n ['ICELAN', 2.2, 81.45],\n ['INDI', 2.62, 65.13],\n ['INDONESI', 2.12, 68.89],\n ['IRA', 1.67, 72.75],\n ['IRA', 4.7, 68.49],\n ['IRELAN', 2.07, 80.29],\n ['ISRAE', 3.03, 81.5],\n ['ITAL', 1.4, 81.74],\n ['JAMAIC', 2.33, 72.85],\n ['JAPA', 1.39, 82.93],\n ['JORDA', 3.8, 73.29],\n ['KAZAKHSTA', 2.59, 68.3],\n ['KENY', 4.72, 56.5],\n ['KORE', 1.22, 80.76],\n ['KOSOV', 2.29, 69.88],\n ['KUWAI', 2.29, 74.6],\n ['KYRGYZ REPUBLI', 2.9, 69.37],\n ['LAO PD', 2.75, 67.06],\n ['LATVI', 1.17, 73.48],\n ['LEBANO', 1.8, 72.41],\n ['LESOTH', 3.2, 47.37],\n ['LIBERI', 5.24, 56.15],\n ['LIBY', 2.56, 74.75],\n ['LITHUANI', 1.55, 73.27],\n ['LUXEMBOUR', 1.63, 80.09],\n ['MACAO SAR, CHIN', 1.09, 80.78],\n ['MACEDONI', 1.42, 74.62],\n ['MADAGASCA', 4.65, 66.47],\n ['MAL', 6.29, 50.95],\n ['MALAW', 5.99, 53.46],\n ['MALAYSI', 2.63, 74.02],\n ['MALDIVE', 1.75, 76.55],\n ['MALT', 1.38, 80.95],\n ['MAURITANI', 4.53, 58.22],\n ['MAURITIU', 1.47, 72.97],\n ['MEXIC', 2.32, 76.68],\n ['MICRONESI', 3.45, 68.76],\n ['MOLDOV', 1.48, 68.9],\n ['MONGOLI', 2.5, 68.19],\n ['MONTENEGR', 1.66, 74.31],\n ['MOROCC', 2.28, 71.86],\n ['MOZAMBIQU', 4.91, 49.7],\n ['MYANMA', 2.0, 64.66],\n ['NAMIBI', 3.22, 62.07],\n ['NEPA', 2.73, 68.39],\n ['NETHERLAND', 1.79, 80.7],\n ['NEW CALEDONI', 2.14, 76.3],\n ['NEW ZEALAN', 2.16, 80.7],\n ['NICARAGU', 2.62, 73.73],\n ['NIGE', 7.06, 54.27],\n ['NIGERI', 5.53, 51.41],\n ['NORWA', 1.95, 81.0],\n ['OMA', 2.31, 73.12],\n ['PAKISTA', 3.42, 65.2],\n ['PANAM', 2.48, 75.97],\n ['PAPUA NEW GUINE', 3.95, 62.44],\n ['PARAGUA', 2.95, 72.28],\n ['PER', 2.5, 73.76],\n ['PHILIPPINE', 3.14, 68.48],\n ['POLAN', 1.38, 76.25],\n ['PORTUGA', 1.32, 79.03],\n ['PUERTO RIC', 1.8, 78.91],\n ['QATA', 2.27, 78.1],\n ['ROMANI', 1.38, 73.46],\n ['RUSSI', 1.54, 68.8],\n ['RWAND', 5.37, 55.06],\n ['SAMO', 3.86, 72.31],\n ['SAUDI ARABI', 2.81, 73.85],\n ['SENEGA', 4.82, 58.95],\n ['SERBI', 1.4, 73.94],\n ['SEYCHELLE', 2.5, 73.03],\n ['SIERRA LEON', 4.98, 47.4],\n ['SINGAPOR', 1.15, 81.64],\n ['SLOVAK REPUBLI', 1.4, 75.11],\n ['SLOVENI', 1.57, 79.42],\n ['SOLOMON ISLAND', 4.23, 67.47],\n ['SOMALI', 6.34, 50.9],\n ['SOUTH AFRIC', 2.46, 52.08],\n ['SPAI', 1.39, 81.63],\n ['SRI LANK', 2.31, 74.72],\n ['ST. LUCI', 1.98, 74.44],\n ['ST. VINCENT AND THE GRENADINE', 2.06, 72.11],\n ['SUDA', 4.4, 61.11],\n ['SURINAM', 2.34, 70.34],\n ['SWAZILAN', 3.36, 48.34],\n ['SWEDE', 1.98, 81.45],\n ['SWITZERLAN', 1.5, 82.25],\n ['SYRIAN ARAB REPUBLI', 2.93, 75.7],\n ['TAJIKISTA', 3.3, 67.26],\n ['TANZANI', 5.54, 57.39],\n ['THAILAN', 1.58, 73.93],\n ['THE BAHAMA', 1.9, 75.22],\n ['THE GAMBI', 4.9, 58.16],\n ['TIMOR-LEST', 5.58, 62.0],\n ['TOG', 4.07, 56.59],\n ['TONG', 3.91, 72.15],\n ['TRINIDAD AND TOBAG', 1.64, 69.75],\n ['TUNISI', 2.04, 74.6],\n ['TURKE', 2.09, 73.7],\n ['TURKMENISTA', 2.4, 64.86],\n ['UGAND', 6.15, 53.61],\n ['UKRAIN', 1.45, 70.28],\n ['UNITED ARAB EMIRATE', 1.75, 76.57],\n ['UNITED KINGDO', 1.94, 80.4],\n ['UNITED STATE', 2.1, 78.24],\n ['URUGUA', 1.99, 76.24],\n ['UZBEKISTA', 2.5, 68.0],\n ['VANUAT', 3.87, 70.82],\n ['VENEZUEL', 2.49, 74.13],\n ['VIETNA', 1.82, 74.83],\n ['VIRGIN ISLAND', 1.8, 79.19],\n ['WEST BANK AND GAZ', 4.45, 72.64],\n ['YEME', 5.2, 65.03],\n ['ZAMBI', 6.26, 48.46],\n ['ZIMBABW', 3.29, 49.86]]"
     },
     "metadata": {},
     "execution_count": 6
    }
   ],
   "source": [
    "#remove the last letter of every country\n",
    "#just add an index after item in line 3 [item[0][:-1]]\n",
    "\n",
    "all_upper = []\n",
    "for item in countries[1:]:\n",
    "    all_upper.append([item[0][:-1].upper(), round(float(item[1]), 2), round(float(item[2]), 2)])\n",
    "    \n",
    "sorted(all_upper)"
   ]
  },
  {
   "cell_type": "markdown",
   "metadata": {},
   "source": [
    "### Hard Questions\n",
    "1. Create a function that takes in a list of words and returns step 3 up to step 6 as a list\n",
    " - do not forget the comments and to explain what your function is used for and what it outputs\n",
    "2. How many countries does the file contain?\n",
    "3. Do all countries have birth and life expectancy present? \n",
    "4. How many countries start with the letter M?\n",
    "5. How many countries have a 'z' in their name"
   ]
  },
  {
   "cell_type": "code",
   "execution_count": 8,
   "metadata": {},
   "outputs": [
    {
     "output_type": "execute_result",
     "data": {
      "text/plain": "[['AFGHANISTA', 6.29, 48.28],\n ['ALBANI', 1.54, 76.9],\n ['ALGERI', 2.26, 72.85],\n ['ANGOL', 5.44, 50.65],\n ['ARGENTIN', 2.21, 75.63],\n ['ARMENI', 1.74, 73.78],\n ['ARUB', 1.7, 74.98],\n ['AUSTRALI', 1.92, 81.7],\n ['AUSTRI', 1.44, 80.38],\n ['AZERBAIJA', 2.3, 70.51],\n ['BAHRAI', 2.54, 75.02],\n ['BANGLADES', 2.25, 68.63],\n ['BARBADO', 1.55, 76.57],\n ['BELARU', 1.44, 70.4],\n ['BELGIU', 1.84, 79.94],\n ['BELIZ', 2.79, 75.84],\n ['BENI', 5.29, 55.59],\n ['BERMUD', 1.76, 79.29],\n ['BHUTA', 2.4, 66.91],\n ['BOLIVI', 3.35, 66.27],\n ['BOSNIA AND HERZEGOVIN', 1.15, 75.4],\n ['BOTSWAN', 2.75, 53.11],\n ['BRAZI', 1.83, 73.1],\n ['BRUNE', 2.04, 77.93],\n ['BULGARI', 1.49, 73.51],\n ['BURKINA FAS', 5.85, 54.92],\n ['BURUND', 4.34, 49.88],\n ['CAMBODI', 2.58, 62.54],\n ['CAMEROO', 4.49, 51.06],\n ['CANAD', 1.68, 80.8],\n ['CAPE VERD', 2.4, 73.77],\n ['CENTRAL AFRICAN REPUBLI', 4.63, 47.62],\n ['CHA', 5.98, 49.19],\n ['CHANNEL ISLAND', 1.46, 79.83],\n ['CHIL', 1.86, 78.89],\n ['CHIN', 1.6, 73.27],\n ['COLOMBI', 2.1, 73.43],\n ['COMORO', 4.92, 60.63],\n ['CONG', 4.54, 56.96],\n ['COSTA RIC', 1.85, 79.19],\n ['CROATI', 1.46, 76.48],\n ['CUB', 1.47, 78.96],\n ['CYPRU', 1.48, 79.38],\n ['CZECH REPUBLI', 1.49, 77.42],\n ['DEM. REP. CONG', 5.78, 48.07],\n ['DEM. REP. KORE', 2.02, 68.53],\n ['DENMAR', 1.87, 79.1],\n ['DJIBOUT', 3.75, 57.53],\n ['DOMINICAN REPUBLI', 2.58, 73.2],\n ['ECUADO', 2.48, 75.46],\n ['EGYP', 2.73, 72.98],\n ['EL SALVADO', 2.25, 71.73],\n ['EQUATORIAL GUINE', 5.18, 50.84],\n ['ERITRE', 4.45, 60.99],\n ['ESTONI', 1.63, 75.43],\n ['ETHIOPI', 4.19, 58.72],\n ['FIJ', 2.67, 69.23],\n ['FINLAN', 1.87, 79.87],\n ['FRANC', 2.0, 81.37],\n ['FRENCH POLYNESI', 2.09, 75.08],\n ['GABO', 3.25, 62.29],\n ['GEORGI', 1.55, 73.33],\n ['GERMAN', 1.39, 79.99],\n ['GHAN', 4.17, 63.84],\n ['GREEC', 1.44, 80.39],\n ['GRENAD', 2.23, 75.66],\n ['GUA', 2.47, 75.99],\n ['GUATEMAL', 3.98, 70.83],\n ['GUINE', 5.25, 53.64],\n ['GUINEA-BISSA', 5.06, 47.7],\n ['GUYAN', 2.26, 69.55],\n ['HAIT', 3.34, 61.76],\n ['HONDURA', 3.14, 72.83],\n ['HONG KONG SAR, CHIN', 1.11, 82.88],\n ['HUNGAR', 1.25, 74.21],\n ['ICELAN', 2.2, 81.45],\n ['INDI', 2.62, 65.13],\n ['INDONESI', 2.12, 68.89],\n ['IRA', 1.67, 72.75],\n ['IRA', 4.7, 68.49],\n ['IRELAN', 2.07, 80.29],\n ['ISRAE', 3.03, 81.5],\n ['ITAL', 1.4, 81.74],\n ['JAMAIC', 2.33, 72.85],\n ['JAPA', 1.39, 82.93],\n ['JORDA', 3.8, 73.29],\n ['KAZAKHSTA', 2.59, 68.3],\n ['KENY', 4.72, 56.5],\n ['KORE', 1.22, 80.76],\n ['KOSOV', 2.29, 69.88],\n ['KUWAI', 2.29, 74.6],\n ['KYRGYZ REPUBLI', 2.9, 69.37],\n ['LAO PD', 2.75, 67.06],\n ['LATVI', 1.17, 73.48],\n ['LEBANO', 1.8, 72.41],\n ['LESOTH', 3.2, 47.37],\n ['LIBERI', 5.24, 56.15],\n ['LIBY', 2.56, 74.75],\n ['LITHUANI', 1.55, 73.27],\n ['LUXEMBOUR', 1.63, 80.09],\n ['MACAO SAR, CHIN', 1.09, 80.78],\n ['MACEDONI', 1.42, 74.62],\n ['MADAGASCA', 4.65, 66.47],\n ['MAL', 6.29, 50.95],\n ['MALAW', 5.99, 53.46],\n ['MALAYSI', 2.63, 74.02],\n ['MALDIVE', 1.75, 76.55],\n ['MALT', 1.38, 80.95],\n ['MAURITANI', 4.53, 58.22],\n ['MAURITIU', 1.47, 72.97],\n ['MEXIC', 2.32, 76.68],\n ['MICRONESI', 3.45, 68.76],\n ['MOLDOV', 1.48, 68.9],\n ['MONGOLI', 2.5, 68.19],\n ['MONTENEGR', 1.66, 74.31],\n ['MOROCC', 2.28, 71.86],\n ['MOZAMBIQU', 4.91, 49.7],\n ['MYANMA', 2.0, 64.66],\n ['NAMIBI', 3.22, 62.07],\n ['NEPA', 2.73, 68.39],\n ['NETHERLAND', 1.79, 80.7],\n ['NEW CALEDONI', 2.14, 76.3],\n ['NEW ZEALAN', 2.16, 80.7],\n ['NICARAGU', 2.62, 73.73],\n ['NIGE', 7.06, 54.27],\n ['NIGERI', 5.53, 51.41],\n ['NORWA', 1.95, 81.0],\n ['OMA', 2.31, 73.12],\n ['PAKISTA', 3.42, 65.2],\n ['PANAM', 2.48, 75.97],\n ['PAPUA NEW GUINE', 3.95, 62.44],\n ['PARAGUA', 2.95, 72.28],\n ['PER', 2.5, 73.76],\n ['PHILIPPINE', 3.14, 68.48],\n ['POLAN', 1.38, 76.25],\n ['PORTUGA', 1.32, 79.03],\n ['PUERTO RIC', 1.8, 78.91],\n ['QATA', 2.27, 78.1],\n ['ROMANI', 1.38, 73.46],\n ['RUSSI', 1.54, 68.8],\n ['RWAND', 5.37, 55.06],\n ['SAMO', 3.86, 72.31],\n ['SAUDI ARABI', 2.81, 73.85],\n ['SENEGA', 4.82, 58.95],\n ['SERBI', 1.4, 73.94],\n ['SEYCHELLE', 2.5, 73.03],\n ['SIERRA LEON', 4.98, 47.4],\n ['SINGAPOR', 1.15, 81.64],\n ['SLOVAK REPUBLI', 1.4, 75.11],\n ['SLOVENI', 1.57, 79.42],\n ['SOLOMON ISLAND', 4.23, 67.47],\n ['SOMALI', 6.34, 50.9],\n ['SOUTH AFRIC', 2.46, 52.08],\n ['SPAI', 1.39, 81.63],\n ['SRI LANK', 2.31, 74.72],\n ['ST. LUCI', 1.98, 74.44],\n ['ST. VINCENT AND THE GRENADINE', 2.06, 72.11],\n ['SUDA', 4.4, 61.11],\n ['SURINAM', 2.34, 70.34],\n ['SWAZILAN', 3.36, 48.34],\n ['SWEDE', 1.98, 81.45],\n ['SWITZERLAN', 1.5, 82.25],\n ['SYRIAN ARAB REPUBLI', 2.93, 75.7],\n ['TAJIKISTA', 3.3, 67.26],\n ['TANZANI', 5.54, 57.39],\n ['THAILAN', 1.58, 73.93],\n ['THE BAHAMA', 1.9, 75.22],\n ['THE GAMBI', 4.9, 58.16],\n ['TIMOR-LEST', 5.58, 62.0],\n ['TOG', 4.07, 56.59],\n ['TONG', 3.91, 72.15],\n ['TRINIDAD AND TOBAG', 1.64, 69.75],\n ['TUNISI', 2.04, 74.6],\n ['TURKE', 2.09, 73.7],\n ['TURKMENISTA', 2.4, 64.86],\n ['UGAND', 6.15, 53.61],\n ['UKRAIN', 1.45, 70.28],\n ['UNITED ARAB EMIRATE', 1.75, 76.57],\n ['UNITED KINGDO', 1.94, 80.4],\n ['UNITED STATE', 2.1, 78.24],\n ['URUGUA', 1.99, 76.24],\n ['UZBEKISTA', 2.5, 68.0],\n ['VANUAT', 3.87, 70.82],\n ['VENEZUEL', 2.49, 74.13],\n ['VIETNA', 1.82, 74.83],\n ['VIRGIN ISLAND', 1.8, 79.19],\n ['WEST BANK AND GAZ', 4.45, 72.64],\n ['YEME', 5.2, 65.03],\n ['ZAMBI', 6.26, 48.46],\n ['ZIMBABW', 3.29, 49.86]]"
     },
     "metadata": {},
     "execution_count": 8
    }
   ],
   "source": [
    "def transform_this(text):\n",
    "    \"\"\"Makes transformations to a nested list so the data types are more consistent and use upper method\n",
    "    Input: text: nested list: countries, birthrates and Life expectancy\n",
    "    Retuns: text: nested list: countries, birthrates and Life expectancy\"\"\"\n",
    "    \n",
    "    countries2 = [item.split('\\t') for item in text]\n",
    "    # Get the elements of a nested list and transform them, put them in a new list which looks like [\"string\", float, float]\n",
    "    all_upper = []\n",
    "    for item in countries2[1:]:\n",
    "        all_upper.append([item[0][:-1].upper(), round(float(item[1]), 2), round(float(item[2]), 2)])\n",
    "    return sorted(all_upper)\n",
    "\n",
    "transform_this(text)"
   ]
  },
  {
   "cell_type": "code",
   "execution_count": 9,
   "metadata": {},
   "outputs": [],
   "source": [
    "#Do all countries have birth and life expectancy present?\n",
    "for sublist in countries:\n",
    "    if len(sublist) < 3:\n",
    "        print('not all countries have all elements present')\n",
    "    for element in sublist:\n",
    "        if element == '' or element == None:\n",
    "            print('not all countries have all elements present')"
   ]
  },
  {
   "cell_type": "code",
   "execution_count": 10,
   "metadata": {},
   "outputs": [
    {
     "output_type": "execute_result",
     "data": {
      "text/plain": "190"
     },
     "metadata": {},
     "execution_count": 10
    }
   ],
   "source": [
    "#country count\n",
    "len(countries)-1"
   ]
  },
  {
   "cell_type": "code",
   "execution_count": 11,
   "metadata": {},
   "outputs": [
    {
     "output_type": "stream",
     "name": "stdout",
     "text": "18\n18\n"
    }
   ],
   "source": [
    "count = 0\n",
    "for sublist in countries[1:]:\n",
    "    if sublist[0][0].lower() == 'm':\n",
    "        count+=1\n",
    "print(count)\n",
    "\n",
    "#or with list comprehension \n",
    "print(len([m for m in countries[1:] if m[0][0].lower()=='m']))"
   ]
  },
  {
   "cell_type": "code",
   "execution_count": 12,
   "metadata": {},
   "outputs": [
    {
     "output_type": "stream",
     "name": "stdout",
     "text": "14\n14\n"
    }
   ],
   "source": [
    "count = 0\n",
    "for sublist in countries[1:]:\n",
    "    if 'z' in sublist[0]:\n",
    "        count+=1\n",
    "print(count)\n",
    "\n",
    "#or with list comprehension\n",
    "print(len([m for m in countries if 'z' in m[0]]))"
   ]
  },
  {
   "cell_type": "code",
   "execution_count": null,
   "metadata": {},
   "outputs": [],
   "source": []
  }
 ],
 "metadata": {
  "kernelspec": {
   "display_name": "Python 3",
   "language": "python",
   "name": "python3"
  },
  "language_info": {
   "codemirror_mode": {
    "name": "ipython",
    "version": 3
   },
   "file_extension": ".py",
   "mimetype": "text/x-python",
   "name": "python",
   "nbconvert_exporter": "python",
   "pygments_lexer": "ipython3",
   "version": "3.7.7-final"
  }
 },
 "nbformat": 4,
 "nbformat_minor": 4
}